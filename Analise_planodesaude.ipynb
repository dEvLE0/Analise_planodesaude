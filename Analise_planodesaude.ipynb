{
 "cells": [
  {
   "cell_type": "code",
   "execution_count": 87,
   "id": "2b27349c",
   "metadata": {},
   "outputs": [],
   "source": [
    "#imports \n",
    "import pandas as pd \n",
    "import numpy as np \n",
    "import matplotlib.pyplot as plt \n",
    "import seaborn as sns \n",
    "from sklearn.model_selection import train_test_split \n",
    "from sklearn.metrics import mean_squared_error, r2_score\n",
    "from sklearn.linear_model import LinearRegression, Ridge, Lasso \n",
    "from sklearn.ensemble import RandomForestRegressor"
   ]
  },
  {
   "cell_type": "code",
   "execution_count": 3,
   "id": "99eeebcd",
   "metadata": {},
   "outputs": [],
   "source": [
    "#gerando dataframe \n",
    "df = pd.read_csv(\"Train_Data.csv\")"
   ]
  },
  {
   "cell_type": "code",
   "execution_count": 40,
   "id": "f330aa46",
   "metadata": {
    "scrolled": true
   },
   "outputs": [
    {
     "data": {
      "text/html": [
       "<div>\n",
       "<style scoped>\n",
       "    .dataframe tbody tr th:only-of-type {\n",
       "        vertical-align: middle;\n",
       "    }\n",
       "\n",
       "    .dataframe tbody tr th {\n",
       "        vertical-align: top;\n",
       "    }\n",
       "\n",
       "    .dataframe thead th {\n",
       "        text-align: right;\n",
       "    }\n",
       "</style>\n",
       "<table border=\"1\" class=\"dataframe\">\n",
       "  <thead>\n",
       "    <tr style=\"text-align: right;\">\n",
       "      <th></th>\n",
       "      <th>Idade</th>\n",
       "      <th>Sexo</th>\n",
       "      <th>IMC</th>\n",
       "      <th>Fumante</th>\n",
       "      <th>Região</th>\n",
       "      <th>Filhos</th>\n",
       "      <th>Targerts</th>\n",
       "    </tr>\n",
       "  </thead>\n",
       "  <tbody>\n",
       "    <tr>\n",
       "      <th>0</th>\n",
       "      <td>21.000000</td>\n",
       "      <td>male</td>\n",
       "      <td>25.745000</td>\n",
       "      <td>no</td>\n",
       "      <td>northeast</td>\n",
       "      <td>2</td>\n",
       "      <td>3279.868550</td>\n",
       "    </tr>\n",
       "    <tr>\n",
       "      <th>1</th>\n",
       "      <td>36.976978</td>\n",
       "      <td>female</td>\n",
       "      <td>25.744165</td>\n",
       "      <td>yes</td>\n",
       "      <td>southeast</td>\n",
       "      <td>3</td>\n",
       "      <td>21454.494239</td>\n",
       "    </tr>\n",
       "    <tr>\n",
       "      <th>2</th>\n",
       "      <td>18.000000</td>\n",
       "      <td>male</td>\n",
       "      <td>30.030000</td>\n",
       "      <td>no</td>\n",
       "      <td>southeast</td>\n",
       "      <td>1</td>\n",
       "      <td>1720.353700</td>\n",
       "    </tr>\n",
       "  </tbody>\n",
       "</table>\n",
       "</div>"
      ],
      "text/plain": [
       "       Idade    Sexo        IMC Fumante     Região  Filhos      Targerts\n",
       "0  21.000000    male  25.745000      no  northeast       2   3279.868550\n",
       "1  36.976978  female  25.744165     yes  southeast       3  21454.494239\n",
       "2  18.000000    male  30.030000      no  southeast       1   1720.353700"
      ]
     },
     "execution_count": 40,
     "metadata": {},
     "output_type": "execute_result"
    }
   ],
   "source": [
    "#alterando nome das colunas\n",
    "df.rename(columns={\"age\":\"Idade\",\"sex\":\"Sexo\",\"bmi\":\"IMC\",\"smoker\":\"Fumante\",\"region\":\"Região\",\\\n",
    "                        \"children\":\"Filhos\",\"charges\":\"Targerts\"}, inplace = True) \n",
    "df.head(3) "
   ]
  },
  {
   "cell_type": "code",
   "execution_count": 19,
   "id": "b46ae553",
   "metadata": {},
   "outputs": [
    {
     "name": "stdout",
     "output_type": "stream",
     "text": [
      "<class 'pandas.core.frame.DataFrame'>\n",
      "RangeIndex: 3630 entries, 0 to 3629\n",
      "Data columns (total 7 columns):\n",
      " #   Column    Non-Null Count  Dtype  \n",
      "---  ------    --------------  -----  \n",
      " 0   Idade     3630 non-null   float64\n",
      " 1   sex       3630 non-null   object \n",
      " 2   IMC       3630 non-null   float64\n",
      " 3   Fumante   3630 non-null   object \n",
      " 4   Região    3630 non-null   object \n",
      " 5   Filhos    3630 non-null   int64  \n",
      " 6   Targerts  3630 non-null   float64\n",
      "dtypes: float64(3), int64(1), object(3)\n",
      "memory usage: 198.6+ KB\n"
     ]
    }
   ],
   "source": [
    "#visualizando informações do dataframe\n",
    "df.info()"
   ]
  },
  {
   "cell_type": "code",
   "execution_count": 20,
   "id": "e46954ef",
   "metadata": {},
   "outputs": [
    {
     "data": {
      "text/html": [
       "<div>\n",
       "<style scoped>\n",
       "    .dataframe tbody tr th:only-of-type {\n",
       "        vertical-align: middle;\n",
       "    }\n",
       "\n",
       "    .dataframe tbody tr th {\n",
       "        vertical-align: top;\n",
       "    }\n",
       "\n",
       "    .dataframe thead th {\n",
       "        text-align: right;\n",
       "    }\n",
       "</style>\n",
       "<table border=\"1\" class=\"dataframe\">\n",
       "  <thead>\n",
       "    <tr style=\"text-align: right;\">\n",
       "      <th></th>\n",
       "      <th>Idade</th>\n",
       "      <th>IMC</th>\n",
       "      <th>Filhos</th>\n",
       "      <th>Targerts</th>\n",
       "    </tr>\n",
       "  </thead>\n",
       "  <tbody>\n",
       "    <tr>\n",
       "      <th>count</th>\n",
       "      <td>3630.000000</td>\n",
       "      <td>3630.000000</td>\n",
       "      <td>3630.000000</td>\n",
       "      <td>3630.000000</td>\n",
       "    </tr>\n",
       "    <tr>\n",
       "      <th>mean</th>\n",
       "      <td>38.887036</td>\n",
       "      <td>30.629652</td>\n",
       "      <td>2.503581</td>\n",
       "      <td>12784.808644</td>\n",
       "    </tr>\n",
       "    <tr>\n",
       "      <th>std</th>\n",
       "      <td>12.151029</td>\n",
       "      <td>5.441307</td>\n",
       "      <td>1.712568</td>\n",
       "      <td>10746.166743</td>\n",
       "    </tr>\n",
       "    <tr>\n",
       "      <th>min</th>\n",
       "      <td>18.000000</td>\n",
       "      <td>15.960000</td>\n",
       "      <td>0.000000</td>\n",
       "      <td>1121.873900</td>\n",
       "    </tr>\n",
       "    <tr>\n",
       "      <th>25%</th>\n",
       "      <td>29.000000</td>\n",
       "      <td>26.694526</td>\n",
       "      <td>1.000000</td>\n",
       "      <td>5654.818262</td>\n",
       "    </tr>\n",
       "    <tr>\n",
       "      <th>50%</th>\n",
       "      <td>39.170922</td>\n",
       "      <td>30.200000</td>\n",
       "      <td>3.000000</td>\n",
       "      <td>9443.807222</td>\n",
       "    </tr>\n",
       "    <tr>\n",
       "      <th>75%</th>\n",
       "      <td>48.343281</td>\n",
       "      <td>34.100000</td>\n",
       "      <td>4.000000</td>\n",
       "      <td>14680.407505</td>\n",
       "    </tr>\n",
       "    <tr>\n",
       "      <th>max</th>\n",
       "      <td>64.000000</td>\n",
       "      <td>53.130000</td>\n",
       "      <td>5.000000</td>\n",
       "      <td>63770.428010</td>\n",
       "    </tr>\n",
       "  </tbody>\n",
       "</table>\n",
       "</div>"
      ],
      "text/plain": [
       "             Idade          IMC       Filhos      Targerts\n",
       "count  3630.000000  3630.000000  3630.000000   3630.000000\n",
       "mean     38.887036    30.629652     2.503581  12784.808644\n",
       "std      12.151029     5.441307     1.712568  10746.166743\n",
       "min      18.000000    15.960000     0.000000   1121.873900\n",
       "25%      29.000000    26.694526     1.000000   5654.818262\n",
       "50%      39.170922    30.200000     3.000000   9443.807222\n",
       "75%      48.343281    34.100000     4.000000  14680.407505\n",
       "max      64.000000    53.130000     5.000000  63770.428010"
      ]
     },
     "execution_count": 20,
     "metadata": {},
     "output_type": "execute_result"
    }
   ],
   "source": [
    "#Visualizando algumas informações float\n",
    "df.describe()"
   ]
  },
  {
   "cell_type": "code",
   "execution_count": 26,
   "id": "f0ef6b53",
   "metadata": {},
   "outputs": [
    {
     "data": {
      "text/html": [
       "<div>\n",
       "<style scoped>\n",
       "    .dataframe tbody tr th:only-of-type {\n",
       "        vertical-align: middle;\n",
       "    }\n",
       "\n",
       "    .dataframe tbody tr th {\n",
       "        vertical-align: top;\n",
       "    }\n",
       "\n",
       "    .dataframe thead th {\n",
       "        text-align: right;\n",
       "    }\n",
       "</style>\n",
       "<table border=\"1\" class=\"dataframe\">\n",
       "  <thead>\n",
       "    <tr style=\"text-align: right;\">\n",
       "      <th></th>\n",
       "      <th>sex</th>\n",
       "      <th>Fumante</th>\n",
       "      <th>Região</th>\n",
       "    </tr>\n",
       "  </thead>\n",
       "  <tbody>\n",
       "    <tr>\n",
       "      <th>count</th>\n",
       "      <td>3630</td>\n",
       "      <td>3630</td>\n",
       "      <td>3630</td>\n",
       "    </tr>\n",
       "    <tr>\n",
       "      <th>unique</th>\n",
       "      <td>2</td>\n",
       "      <td>2</td>\n",
       "      <td>4</td>\n",
       "    </tr>\n",
       "    <tr>\n",
       "      <th>top</th>\n",
       "      <td>male</td>\n",
       "      <td>no</td>\n",
       "      <td>southeast</td>\n",
       "    </tr>\n",
       "    <tr>\n",
       "      <th>freq</th>\n",
       "      <td>2029</td>\n",
       "      <td>3070</td>\n",
       "      <td>1021</td>\n",
       "    </tr>\n",
       "  </tbody>\n",
       "</table>\n",
       "</div>"
      ],
      "text/plain": [
       "         sex Fumante     Região\n",
       "count   3630    3630       3630\n",
       "unique     2       2          4\n",
       "top     male      no  southeast\n",
       "freq    2029    3070       1021"
      ]
     },
     "execution_count": 26,
     "metadata": {},
     "output_type": "execute_result"
    }
   ],
   "source": [
    "#visualizando informações object\n",
    "df.describe(include=['O'])"
   ]
  },
  {
   "cell_type": "code",
   "execution_count": 29,
   "id": "461dfcff",
   "metadata": {},
   "outputs": [
    {
     "data": {
      "image/png": "[encoded data removed]",
      "text/plain": [
       "<Figure size 576x360 with 1 Axes>"
      ]
     },
     "metadata": {
      "needs_background": "light"
     },
     "output_type": "display_data"
    }
   ],
   "source": [
    "#gerando um histograma dos targets (custos dos planos)\n",
    "plt.figure(figsize=(8,5))\n",
    "sns.histplot(df[\"Targerts\"], kde = True)\n",
    "plt.title(\"Despesas com Planos de Saúde\", fontsize = 20)\n",
    "plt.show() \n"
   ]
  },
  {
   "cell_type": "code",
   "execution_count": 30,
   "id": "3bf99dd5",
   "metadata": {},
   "outputs": [
    {
     "name": "stderr",
     "output_type": "stream",
     "text": [
      "C:\\ProgramData\\Anaconda3.2\\lib\\site-packages\\seaborn\\_decorators.py:36: FutureWarning: Pass the following variable as a keyword arg: x. From version 0.12, the only valid positional argument will be `data`, and passing other arguments without an explicit keyword will result in an error or misinterpretation.\n",
      "  warnings.warn(\n"
     ]
    },
    {
     "data": {
      "image/png": "[encoded data removed]",
      "text/plain": [
       "<Figure size 576x360 with 1 Axes>"
      ]
     },
     "metadata": {
      "needs_background": "light"
     },
     "output_type": "display_data"
    }
   ],
   "source": [
    "#gerando um boxplot dos targets (custos dos planos) para visualizar outliers\n",
    "plt.figure(figsize=(8,5))\n",
    "sns.boxplot(df[\"Targerts\"])\n",
    "plt.title(\"Despesas com Planos de Saúde(BoxPlot)\", fontsize = 20)\n",
    "plt.show() \n"
   ]
  },
  {
   "cell_type": "code",
   "execution_count": 31,
   "id": "dfd16f15",
   "metadata": {},
   "outputs": [
    {
     "data": {
      "image/png": "[encoded data removed]",
      "text/plain": [
       "<Figure size 576x360 with 1 Axes>"
      ]
     },
     "metadata": {
      "needs_background": "light"
     },
     "output_type": "display_data"
    }
   ],
   "source": [
    "#gerando um histogram com as idades dos clientes dos planos\n",
    "plt.figure(figsize=(8,5))\n",
    "sns.histplot(df[\"Idade\"], kde = True)\n",
    "plt.title(\"Idade\", fontsize = 20)\n",
    "plt.show()"
   ]
  },
  {
   "cell_type": "code",
   "execution_count": 34,
   "id": "cee8427d",
   "metadata": {},
   "outputs": [
    {
     "name": "stderr",
     "output_type": "stream",
     "text": [
      "C:\\ProgramData\\Anaconda3.2\\lib\\site-packages\\seaborn\\_decorators.py:36: FutureWarning: Pass the following variable as a keyword arg: x. From version 0.12, the only valid positional argument will be `data`, and passing other arguments without an explicit keyword will result in an error or misinterpretation.\n",
      "  warnings.warn(\n"
     ]
    },
    {
     "data": {
      "image/png": "[encoded data removed]",
      "text/plain": [
       "<Figure size 576x360 with 1 Axes>"
      ]
     },
     "metadata": {
      "needs_background": "light"
     },
     "output_type": "display_data"
    }
   ],
   "source": [
    "#boxplot idades\n",
    "plt.figure(figsize=(8,5))\n",
    "sns.boxplot(df[\"Idade\"]) \n",
    "plt.title(\"Idade(BoxPlot)\", fontsize = 20)\n",
    "plt.show()"
   ]
  },
  {
   "cell_type": "code",
   "execution_count": 33,
   "id": "f7a93c97",
   "metadata": {},
   "outputs": [
    {
     "data": {
      "image/png": "[encoded data removed]",
      "text/plain": [
       "<Figure size 576x360 with 1 Axes>"
      ]
     },
     "metadata": {
      "needs_background": "light"
     },
     "output_type": "display_data"
    }
   ],
   "source": [
    "plt.figure(figsize=(8,5))\n",
    "sns.histplot(df[\"IMC\"], kde = True)\n",
    "plt.title(\"IMC\", fontsize = 20)\n",
    "plt.show() "
   ]
  },
  {
   "cell_type": "code",
   "execution_count": 35,
   "id": "79260551",
   "metadata": {},
   "outputs": [
    {
     "name": "stderr",
     "output_type": "stream",
     "text": [
      "C:\\ProgramData\\Anaconda3.2\\lib\\site-packages\\seaborn\\_decorators.py:36: FutureWarning: Pass the following variable as a keyword arg: x. From version 0.12, the only valid positional argument will be `data`, and passing other arguments without an explicit keyword will result in an error or misinterpretation.\n",
      "  warnings.warn(\n"
     ]
    },
    {
     "data": {
      "image/png": "[encoded data removed]",
      "text/plain": [
       "<Figure size 576x360 with 1 Axes>"
      ]
     },
     "metadata": {
      "needs_background": "light"
     },
     "output_type": "display_data"
    }
   ],
   "source": [
    "plt.figure(figsize=(8,5))\n",
    "sns.boxplot(df[\"IMC\"]) \n",
    "plt.title(\"IMC(BoxPlot)\", fontsize = 20)\n",
    "plt.show()"
   ]
  },
  {
   "cell_type": "code",
   "execution_count": 36,
   "id": "6ac06539",
   "metadata": {},
   "outputs": [
    {
     "data": {
      "image/png": "[encoded data removed]",
      "text/plain": [
       "<Figure size 576x360 with 1 Axes>"
      ]
     },
     "metadata": {
      "needs_background": "light"
     },
     "output_type": "display_data"
    }
   ],
   "source": [
    "#gesrando histograma com dados dos filhos dos clientes dos planos de saúde\n",
    "plt.figure(figsize=(8,5))\n",
    "sns.histplot(df[\"Filhos\"], kde = True)\n",
    "plt.title(\"Filhos\", fontsize = 20)\n",
    "plt.show()"
   ]
  },
  {
   "cell_type": "code",
   "execution_count": 37,
   "id": "949a7f1c",
   "metadata": {},
   "outputs": [
    {
     "name": "stderr",
     "output_type": "stream",
     "text": [
      "C:\\ProgramData\\Anaconda3.2\\lib\\site-packages\\seaborn\\_decorators.py:36: FutureWarning: Pass the following variable as a keyword arg: x. From version 0.12, the only valid positional argument will be `data`, and passing other arguments without an explicit keyword will result in an error or misinterpretation.\n",
      "  warnings.warn(\n"
     ]
    },
    {
     "data": {
      "image/png": "[encoded data removed]",
      "text/plain": [
       "<Figure size 576x360 with 1 Axes>"
      ]
     },
     "metadata": {
      "needs_background": "light"
     },
     "output_type": "display_data"
    }
   ],
   "source": [
    "#boxplot numero de filhos\n",
    "plt.figure(figsize=(8,5))\n",
    "sns.boxplot(df[\"Filhos\"]) \n",
    "plt.title(\"Filhos(BoxPlot)\", fontsize = 20)\n",
    "plt.show()"
   ]
  },
  {
   "cell_type": "code",
   "execution_count": 43,
   "id": "ef7fba51",
   "metadata": {},
   "outputs": [
    {
     "name": "stdout",
     "output_type": "stream",
     "text": [
      "Homem:  2029\n",
      "Mulher:  1601\n"
     ]
    },
    {
     "name": "stderr",
     "output_type": "stream",
     "text": [
      "C:\\ProgramData\\Anaconda3.2\\lib\\site-packages\\seaborn\\_decorators.py:36: FutureWarning: Pass the following variable as a keyword arg: x. From version 0.12, the only valid positional argument will be `data`, and passing other arguments without an explicit keyword will result in an error or misinterpretation.\n",
      "  warnings.warn(\n"
     ]
    },
    {
     "data": {
      "image/png": "[encoded data removed]",
      "text/plain": [
       "<Figure size 432x288 with 1 Axes>"
      ]
     },
     "metadata": {
      "needs_background": "light"
     },
     "output_type": "display_data"
    }
   ],
   "source": [
    "#contando informações dos sexos \n",
    "print(\"Homem: \", df[\"Sexo\"].value_counts()[0])\n",
    "print(\"Mulher: \", df[\"Sexo\"].value_counts()[1]) \n",
    "#visualizando dados dos sexos\n",
    "plt.figure(figsize=(6,4))\n",
    "sns.countplot(df[\"Sexo\"])\n",
    "plt.title(\"Sexo\", fontsize = 20)\n",
    "plt.show() "
   ]
  },
  {
   "cell_type": "code",
   "execution_count": 44,
   "id": "e1f505ab",
   "metadata": {},
   "outputs": [
    {
     "name": "stdout",
     "output_type": "stream",
     "text": [
      "Homem:  560\n",
      "Mulher:  3070\n"
     ]
    },
    {
     "name": "stderr",
     "output_type": "stream",
     "text": [
      "C:\\ProgramData\\Anaconda3.2\\lib\\site-packages\\seaborn\\_decorators.py:36: FutureWarning: Pass the following variable as a keyword arg: x. From version 0.12, the only valid positional argument will be `data`, and passing other arguments without an explicit keyword will result in an error or misinterpretation.\n",
      "  warnings.warn(\n"
     ]
    },
    {
     "data": {
      "image/png": "[encoded data removed]",
      "text/plain": [
       "<Figure size 432x288 with 1 Axes>"
      ]
     },
     "metadata": {
      "needs_background": "light"
     },
     "output_type": "display_data"
    }
   ],
   "source": [
    "#contando informações dos fumamntes\n",
    "print(\"Homem: \", df[\"Fumante\"].value_counts()[1])\n",
    "print(\"Mulher: \", df[\"Fumante\"].value_counts()[0]) \n",
    "#visualizando dados dos sexos\n",
    "plt.figure(figsize=(6,4))\n",
    "sns.countplot(df[\"Fumante\"])\n",
    "plt.title(\"Fumantes\", fontsize = 20) \n",
    "plt.show() "
   ]
  },
  {
   "cell_type": "code",
   "execution_count": 50,
   "id": "c57ad136",
   "metadata": {},
   "outputs": [
    {
     "name": "stdout",
     "output_type": "stream",
     "text": [
      "South-East region:  1021\n",
      "North-West region:  911\n",
      "South-West region:  850\n",
      "North-East region:  848\n"
     ]
    },
    {
     "name": "stderr",
     "output_type": "stream",
     "text": [
      "C:\\ProgramData\\Anaconda3.2\\lib\\site-packages\\seaborn\\_decorators.py:36: FutureWarning: Pass the following variable as a keyword arg: x. From version 0.12, the only valid positional argument will be `data`, and passing other arguments without an explicit keyword will result in an error or misinterpretation.\n",
      "  warnings.warn(\n",
      "C:\\ProgramData\\Anaconda3.2\\lib\\site-packages\\seaborn\\_decorators.py:36: FutureWarning: Pass the following variable as a keyword arg: x. From version 0.12, the only valid positional argument will be `data`, and passing other arguments without an explicit keyword will result in an error or misinterpretation.\n",
      "  warnings.warn(\n"
     ]
    },
    {
     "data": {
      "image/png": "[encoded data removed]",
      "text/plain": [
       "<Figure size 432x288 with 1 Axes>"
      ]
     },
     "metadata": {
      "needs_background": "light"
     },
     "output_type": "display_data"
    }
   ],
   "source": [
    "#contando valores de regiões\n",
    "print(\"South-East region: \", df[\"Região\"].value_counts()[0])\n",
    "print(\"North-West region: \", df[\"Região\"].value_counts()[1]) \n",
    "print(\"South-West region: \", df[\"Região\"].value_counts()[2]) \n",
    "print(\"North-East region: \", df[\"Região\"].value_counts()[3]) \n",
    "\n",
    "#visualizando dados por região\n",
    "sns.countplot(df[\"Região\"])\n",
    "sns.countplot(df[\"Região\"])\n",
    "plt.title(\"Região\", fontsize = 20)\n",
    "plt.show() \n"
   ]
  },
  {
   "cell_type": "code",
   "execution_count": 52,
   "id": "c511b097",
   "metadata": {},
   "outputs": [
    {
     "data": {
      "text/html": [
       "<div>\n",
       "<style scoped>\n",
       "    .dataframe tbody tr th:only-of-type {\n",
       "        vertical-align: middle;\n",
       "    }\n",
       "\n",
       "    .dataframe tbody tr th {\n",
       "        vertical-align: top;\n",
       "    }\n",
       "\n",
       "    .dataframe thead th {\n",
       "        text-align: right;\n",
       "    }\n",
       "</style>\n",
       "<table border=\"1\" class=\"dataframe\">\n",
       "  <thead>\n",
       "    <tr style=\"text-align: right;\">\n",
       "      <th></th>\n",
       "      <th>Idade</th>\n",
       "      <th>Sexo</th>\n",
       "      <th>IMC</th>\n",
       "      <th>Fumante</th>\n",
       "      <th>Região</th>\n",
       "      <th>Filhos</th>\n",
       "      <th>Targerts</th>\n",
       "    </tr>\n",
       "  </thead>\n",
       "  <tbody>\n",
       "    <tr>\n",
       "      <th>0</th>\n",
       "      <td>21.000000</td>\n",
       "      <td>male</td>\n",
       "      <td>25.745000</td>\n",
       "      <td>no</td>\n",
       "      <td>northeast</td>\n",
       "      <td>2</td>\n",
       "      <td>3279.868550</td>\n",
       "    </tr>\n",
       "    <tr>\n",
       "      <th>1</th>\n",
       "      <td>36.976978</td>\n",
       "      <td>female</td>\n",
       "      <td>25.744165</td>\n",
       "      <td>yes</td>\n",
       "      <td>southeast</td>\n",
       "      <td>3</td>\n",
       "      <td>21454.494239</td>\n",
       "    </tr>\n",
       "  </tbody>\n",
       "</table>\n",
       "</div>"
      ],
      "text/plain": [
       "       Idade    Sexo        IMC Fumante     Região  Filhos      Targerts\n",
       "0  21.000000    male  25.745000      no  northeast       2   3279.868550\n",
       "1  36.976978  female  25.744165     yes  southeast       3  21454.494239"
      ]
     },
     "execution_count": 52,
     "metadata": {},
     "output_type": "execute_result"
    }
   ],
   "source": [
    "#Iniciando processamento de dedados\n",
    "df.head(2)"
   ]
  },
  {
   "cell_type": "code",
   "execution_count": 53,
   "id": "2a60d333",
   "metadata": {},
   "outputs": [
    {
     "data": {
      "text/html": [
       "<div>\n",
       "<style scoped>\n",
       "    .dataframe tbody tr th:only-of-type {\n",
       "        vertical-align: middle;\n",
       "    }\n",
       "\n",
       "    .dataframe tbody tr th {\n",
       "        vertical-align: top;\n",
       "    }\n",
       "\n",
       "    .dataframe thead th {\n",
       "        text-align: right;\n",
       "    }\n",
       "</style>\n",
       "<table border=\"1\" class=\"dataframe\">\n",
       "  <thead>\n",
       "    <tr style=\"text-align: right;\">\n",
       "      <th></th>\n",
       "      <th>Idade</th>\n",
       "      <th>Sexo</th>\n",
       "      <th>IMC</th>\n",
       "      <th>Fumante</th>\n",
       "      <th>Região</th>\n",
       "      <th>Filhos</th>\n",
       "      <th>Targerts</th>\n",
       "    </tr>\n",
       "  </thead>\n",
       "  <tbody>\n",
       "    <tr>\n",
       "      <th>0</th>\n",
       "      <td>21.0</td>\n",
       "      <td>male</td>\n",
       "      <td>25.745000</td>\n",
       "      <td>no</td>\n",
       "      <td>northeast</td>\n",
       "      <td>2</td>\n",
       "      <td>3279.868550</td>\n",
       "    </tr>\n",
       "    <tr>\n",
       "      <th>1</th>\n",
       "      <td>37.0</td>\n",
       "      <td>female</td>\n",
       "      <td>25.744165</td>\n",
       "      <td>yes</td>\n",
       "      <td>southeast</td>\n",
       "      <td>3</td>\n",
       "      <td>21454.494239</td>\n",
       "    </tr>\n",
       "  </tbody>\n",
       "</table>\n",
       "</div>"
      ],
      "text/plain": [
       "   Idade    Sexo        IMC Fumante     Região  Filhos      Targerts\n",
       "0   21.0    male  25.745000      no  northeast       2   3279.868550\n",
       "1   37.0  female  25.744165     yes  southeast       3  21454.494239"
      ]
     },
     "execution_count": 53,
     "metadata": {},
     "output_type": "execute_result"
    }
   ],
   "source": [
    "#arredondando variaveis idade\n",
    "df[\"Idade\"] = round(df[\"Idade\"])\n",
    "df.head(2) "
   ]
  },
  {
   "cell_type": "code",
   "execution_count": 55,
   "id": "c3a93cb4",
   "metadata": {},
   "outputs": [
    {
     "data": {
      "text/html": [
       "<div>\n",
       "<style scoped>\n",
       "    .dataframe tbody tr th:only-of-type {\n",
       "        vertical-align: middle;\n",
       "    }\n",
       "\n",
       "    .dataframe tbody tr th {\n",
       "        vertical-align: top;\n",
       "    }\n",
       "\n",
       "    .dataframe thead th {\n",
       "        text-align: right;\n",
       "    }\n",
       "</style>\n",
       "<table border=\"1\" class=\"dataframe\">\n",
       "  <thead>\n",
       "    <tr style=\"text-align: right;\">\n",
       "      <th></th>\n",
       "      <th>Idade</th>\n",
       "      <th>IMC</th>\n",
       "      <th>Filhos</th>\n",
       "      <th>Targerts</th>\n",
       "      <th>Sexo_male</th>\n",
       "      <th>Fumante_yes</th>\n",
       "      <th>Região_northwest</th>\n",
       "      <th>Região_southeast</th>\n",
       "      <th>Região_southwest</th>\n",
       "    </tr>\n",
       "  </thead>\n",
       "  <tbody>\n",
       "    <tr>\n",
       "      <th>0</th>\n",
       "      <td>21.0</td>\n",
       "      <td>25.745000</td>\n",
       "      <td>2</td>\n",
       "      <td>3279.868550</td>\n",
       "      <td>1</td>\n",
       "      <td>0</td>\n",
       "      <td>0</td>\n",
       "      <td>0</td>\n",
       "      <td>0</td>\n",
       "    </tr>\n",
       "    <tr>\n",
       "      <th>1</th>\n",
       "      <td>37.0</td>\n",
       "      <td>25.744165</td>\n",
       "      <td>3</td>\n",
       "      <td>21454.494239</td>\n",
       "      <td>0</td>\n",
       "      <td>1</td>\n",
       "      <td>0</td>\n",
       "      <td>1</td>\n",
       "      <td>0</td>\n",
       "    </tr>\n",
       "  </tbody>\n",
       "</table>\n",
       "</div>"
      ],
      "text/plain": [
       "   Idade        IMC  Filhos      Targerts  Sexo_male  Fumante_yes  \\\n",
       "0   21.0  25.745000       2   3279.868550          1            0   \n",
       "1   37.0  25.744165       3  21454.494239          0            1   \n",
       "\n",
       "   Região_northwest  Região_southeast  Região_southwest  \n",
       "0                 0                 0                 0  \n",
       "1                 0                 1                 0  "
      ]
     },
     "execution_count": 55,
     "metadata": {},
     "output_type": "execute_result"
    }
   ],
   "source": [
    "#transformando variaveis não numéricas em numericas OHEncoding\n",
    "df1 = pd.get_dummies(df, drop_first = True)\n",
    "df1.head(2) "
   ]
  },
  {
   "cell_type": "code",
   "execution_count": 57,
   "id": "a23809ea",
   "metadata": {},
   "outputs": [
    {
     "data": {
      "text/plain": [
       "Index(['Idade', 'IMC', 'Filhos', 'Targerts', 'Sexo_male', 'Fumante_yes',\n",
       "       'Região_northwest', 'Região_southeast', 'Região_southwest'],\n",
       "      dtype='object')"
      ]
     },
     "execution_count": 57,
     "metadata": {},
     "output_type": "execute_result"
    }
   ],
   "source": [
    "#verificando colunas no df1\n",
    "df1.columns"
   ]
  },
  {
   "cell_type": "code",
   "execution_count": null,
   "id": "b1469fc9",
   "metadata": {},
   "outputs": [],
   "source": []
  },
  {
   "cell_type": "code",
   "execution_count": null,
   "id": "d84eb465",
   "metadata": {},
   "outputs": [],
   "source": [
    "#carregnado colunas desejaveis \n",
    "trainDf = df1[[\"Idade\",\"Sexo_male\",\"Fumante_yes\",\"IMC\",\"Filhos\",\"Região_northwest\",\"Região_southeast\",\\\n",
    "              \"Região_southwest\",\"Targerts\"]] \n",
    "trainDf.head(2)"
   ]
  },
  {
   "cell_type": "code",
   "execution_count": 61,
   "id": "ecf4b887",
   "metadata": {},
   "outputs": [],
   "source": [
    "#Split\n",
    "x = trainDf.iloc[:, :-1] #pegando todas as linhas e descartando a ultima coluna\n",
    "y = trainDf.iloc[:, -1] #pegando todas as linhas e apenas a ultima coluna "
   ]
  },
  {
   "cell_type": "code",
   "execution_count": 65,
   "id": "d11963ad",
   "metadata": {
    "scrolled": true
   },
   "outputs": [
    {
     "data": {
      "text/html": [
       "<div>\n",
       "<style scoped>\n",
       "    .dataframe tbody tr th:only-of-type {\n",
       "        vertical-align: middle;\n",
       "    }\n",
       "\n",
       "    .dataframe tbody tr th {\n",
       "        vertical-align: top;\n",
       "    }\n",
       "\n",
       "    .dataframe thead th {\n",
       "        text-align: right;\n",
       "    }\n",
       "</style>\n",
       "<table border=\"1\" class=\"dataframe\">\n",
       "  <thead>\n",
       "    <tr style=\"text-align: right;\">\n",
       "      <th></th>\n",
       "      <th>Idade</th>\n",
       "      <th>Sexo_male</th>\n",
       "      <th>Fumante_yes</th>\n",
       "      <th>IMC</th>\n",
       "      <th>Filhos</th>\n",
       "      <th>Região_northwest</th>\n",
       "      <th>Região_southeast</th>\n",
       "      <th>Região_southwest</th>\n",
       "    </tr>\n",
       "  </thead>\n",
       "  <tbody>\n",
       "    <tr>\n",
       "      <th>0</th>\n",
       "      <td>21.0</td>\n",
       "      <td>1</td>\n",
       "      <td>0</td>\n",
       "      <td>25.745000</td>\n",
       "      <td>2</td>\n",
       "      <td>0</td>\n",
       "      <td>0</td>\n",
       "      <td>0</td>\n",
       "    </tr>\n",
       "    <tr>\n",
       "      <th>1</th>\n",
       "      <td>37.0</td>\n",
       "      <td>0</td>\n",
       "      <td>1</td>\n",
       "      <td>25.744165</td>\n",
       "      <td>3</td>\n",
       "      <td>0</td>\n",
       "      <td>1</td>\n",
       "      <td>0</td>\n",
       "    </tr>\n",
       "  </tbody>\n",
       "</table>\n",
       "</div>"
      ],
      "text/plain": [
       "   Idade  Sexo_male  Fumante_yes        IMC  Filhos  Região_northwest  \\\n",
       "0   21.0          1            0  25.745000       2                 0   \n",
       "1   37.0          0            1  25.744165       3                 0   \n",
       "\n",
       "   Região_southeast  Região_southwest  \n",
       "0                 0                 0  \n",
       "1                 1                 0  "
      ]
     },
     "execution_count": 65,
     "metadata": {},
     "output_type": "execute_result"
    }
   ],
   "source": [
    "x.head(2) #Sem a coluna targets"
   ]
  },
  {
   "cell_type": "code",
   "execution_count": 66,
   "id": "7c02e323",
   "metadata": {
    "scrolled": true
   },
   "outputs": [
    {
     "data": {
      "text/plain": [
       "0     3279.868550\n",
       "1    21454.494239\n",
       "2     1720.353700\n",
       "3     6801.437542\n",
       "4    11946.625900\n",
       "Name: Targerts, dtype: float64"
      ]
     },
     "execution_count": 66,
     "metadata": {},
     "output_type": "execute_result"
    }
   ],
   "source": [
    "y.head() #coluna targets apenas"
   ]
  },
  {
   "cell_type": "code",
   "execution_count": 67,
   "id": "1002e709",
   "metadata": {},
   "outputs": [],
   "source": [
    "#Train_test_split\n",
    "xtreino, xtest, ytreino, ytest = train_test_split(x,y, test_size=0.2, random_state = 0) "
   ]
  },
  {
   "cell_type": "code",
   "execution_count": 71,
   "id": "c9fa99d1",
   "metadata": {},
   "outputs": [
    {
     "name": "stdout",
     "output_type": "stream",
     "text": [
      "0.7482602892322038\n",
      "30898859.035960782\n"
     ]
    }
   ],
   "source": [
    "#regressão linear\n",
    "LinearRegression = LinearRegression()\n",
    "LinearRegression = LinearRegression.fit(xtreino,ytreino)\n",
    "#predição\n",
    "ypred = LinearRegression.predict(xtest)\n",
    "#score\n",
    "print(r2_score(ytest,ypred))\n",
    "print(mean_squared_error(ytest,ypred)) \n"
   ]
  },
  {
   "cell_type": "code",
   "execution_count": 79,
   "id": "a1ce1f39",
   "metadata": {},
   "outputs": [
    {
     "name": "stdout",
     "output_type": "stream",
     "text": [
      "0.7481028884319252\n",
      "30918178.614604626\n"
     ]
    }
   ],
   "source": [
    "#regressão ridge\n",
    "Ridge = Ridge() \n",
    "Ridge = Ridge.fit(xtreino,ytreino) \n",
    "#predição\n",
    "ypred = Ridge.predict(xtest)\n",
    "#score\n",
    "print(r2_score(ytest,ypred))\n",
    "print(mean_squared_error(ytest,ypred)) \n"
   ]
  },
  {
   "cell_type": "code",
   "execution_count": 81,
   "id": "211347f9",
   "metadata": {},
   "outputs": [
    {
     "name": "stdout",
     "output_type": "stream",
     "text": [
      "0.7482269824960902\n",
      "30902947.14800708\n"
     ]
    }
   ],
   "source": [
    "#regressão lasso\n",
    "Lasso = Lasso()\n",
    "Lasso = Lasso.fit(xtreino,ytreino)\n",
    "#predição\n",
    "ypred = Lasso.predict(xtest)\n",
    "#score]\n",
    "print(r2_score(ytest,ypred))\n",
    "print(mean_squared_error(ytest,ypred)) "
   ]
  },
  {
   "cell_type": "code",
   "execution_count": 88,
   "id": "05f1fd84",
   "metadata": {},
   "outputs": [
    {
     "name": "stdout",
     "output_type": "stream",
     "text": [
      "0.9075032033365696\n",
      "11353176.948779104\n"
     ]
    }
   ],
   "source": [
    "#Random Forest\n",
    "RandomForestRegressor = RandomForestRegressor()\n",
    "RandomForestRegressor = RandomForestRegressor.fit(xtreino,ytreino)\n",
    "#predição\n",
    "ypred = RandomForestRegressor.predict(xtest)\n",
    "#score\n",
    "print(r2_score(ytest,ypred))\n",
    "print(mean_squared_error(ytest,ypred)) "
   ]
  }
 ],
 "metadata": {
  "kernelspec": {
   "display_name": "Python 3",
   "language": "python",
   "name": "python3"
  },
  "language_info": {
   "codemirror_mode": {
    "name": "ipython",
    "version": 3
   },
   "file_extension": ".py",
   "mimetype": "text/x-python",
   "name": "python",
   "nbconvert_exporter": "python",
   "pygments_lexer": "ipython3",
   "version": "3.8.8"
  },
  "varInspector": {
   "cols": {
    "lenName": 16,
    "lenType": 16,
    "lenVar": 40
   },
   "kernels_config": {
    "python": {
     "delete_cmd_postfix": "",
     "delete_cmd_prefix": "del ",
     "library": "var_list.py",
     "varRefreshCmd": "print(var_dic_list())"
    },
    "r": {
     "delete_cmd_postfix": ") ",
     "delete_cmd_prefix": "rm(",
     "library": "var_list.r",
     "varRefreshCmd": "cat(var_dic_list()) "
    }
   },
   "types_to_exclude": [
    "module",
    "function",
    "builtin_function_or_method",
    "instance",
    "_Feature"
   ],
   "window_display": false
  }
 },
 "nbformat": 4,
 "nbformat_minor": 5
}
